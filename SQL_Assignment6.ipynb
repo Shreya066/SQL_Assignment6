{
 "cells": [
  {
   "cell_type": "markdown",
   "id": "60a7a5b4",
   "metadata": {},
   "source": [
    "**Q-1. Write an SQL query to print details of the Workers who have joined in Feb’2014.**"
   ]
  },
  {
   "cell_type": "markdown",
   "id": "d396e43f",
   "metadata": {},
   "source": [
    "Select * from Worker where year (JOINING_DATE) = 2014 and month(JOINING_DATE) = 2;"
   ]
  },
  {
   "cell_type": "markdown",
   "id": "a67213f1",
   "metadata": {},
   "source": [
    "**Q-2. Write an SQL query to fetch duplicate records having matching data in some fields of a table.**"
   ]
  },
  {
   "cell_type": "markdown",
   "id": "2b20cb4d",
   "metadata": {},
   "source": [
    "Select first_name, last_name, salary, count( * ) as counts from worker group by first_name, last_name, salary having counts > 1;"
   ]
  },
  {
   "cell_type": "markdown",
   "id": "e365019f",
   "metadata": {},
   "source": [
    "**Q-3. How to remove duplicate rows from Employees table.**"
   ]
  },
  {
   "cell_type": "markdown",
   "id": "88508658",
   "metadata": {},
   "source": [
    "delete from table where col1 in(select id from table group by id having (count(col1) > 1)"
   ]
  }
 ],
 "metadata": {
  "kernelspec": {
   "display_name": "Python 3 (ipykernel)",
   "language": "python",
   "name": "python3"
  },
  "language_info": {
   "codemirror_mode": {
    "name": "ipython",
    "version": 3
   },
   "file_extension": ".py",
   "mimetype": "text/x-python",
   "name": "python",
   "nbconvert_exporter": "python",
   "pygments_lexer": "ipython3",
   "version": "3.9.7"
  }
 },
 "nbformat": 4,
 "nbformat_minor": 5
}
